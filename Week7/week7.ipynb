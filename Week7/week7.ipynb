{
 "cells": [
  {
   "cell_type": "code",
   "execution_count": 1,
   "id": "ec9cd26b-477d-47d2-a447-1bb52c14f24e",
   "metadata": {},
   "outputs": [],
   "source": [
    "#Create CSV file for product selling for 6 Months ( Prod_No | Prod_Name | Jan | Feb | Mar | Apr | May| Jun) for 5 products.\n",
    "#Perform following operations.\n",
    "#1. Add 12 Records. Take input from user."
   ]
  },
  {
   "cell_type": "code",
   "execution_count": 2,
   "id": "33525c2b-7b73-4aab-932c-c7038cf55009",
   "metadata": {},
   "outputs": [],
   "source": [
    "import csv"
   ]
  },
  {
   "cell_type": "code",
   "execution_count": 3,
   "id": "7c5dcdb4-873a-4b09-9ada-9e6848faec55",
   "metadata": {},
   "outputs": [],
   "source": [
    "import pandas as pd"
   ]
  },
  {
   "cell_type": "code",
   "execution_count": 4,
   "id": "dbc64f74-96a7-45c7-bda2-64f92458b9ac",
   "metadata": {},
   "outputs": [],
   "source": [
    "header = [\"Prod_No\", \"Prod_Name\", \"Jan\", \"Feb\", \"Mar\", \"Apr\", \"May\", \"Jun\"]"
   ]
  },
  {
   "cell_type": "code",
   "execution_count": 5,
   "id": "61298ca5-b0ea-485a-8e28-91584d95bf4f",
   "metadata": {},
   "outputs": [],
   "source": [
    "data=[[1,'PENCIL',100,200,200,350,200,300],[2,'PEN',200,400,400,350,200,300],[3,'TV',10,10,20,35,20,10],[4,'SOAP',100,200,200,350,200,300],[5,'SHAMPOO',1000,2000,200,350,2000,3000]]"
   ]
  },
  {
   "cell_type": "code",
   "execution_count": null,
   "id": "70a2dd14-042c-47fe-a86c-149a9dc6b0ae",
   "metadata": {},
   "outputs": [],
   "source": [
    "with open('c:\\sqlite3\\csv\\week7.csv','w',newline='') as f:\n",
    "    w=csv.writer(f)\n",
    "    w.writerow(header)\n",
    "    w.writerows(data)\n",
    "    for i in range(12):\n",
    "        no=int(input(\"Enter Product No. :\"))\n",
    "        name=input(\"Enter Product Name :\")\n",
    "        jan=int(input(\"Enter January sell :\"))\n",
    "        feb=int(input(\"Enter February sell :\"))\n",
    "        mar=int(input(\"Enter March sell :\"))\n",
    "        apr=int(input(\"Enter April sell :\"))\n",
    "        may=int(input(\"Enter May sell :\"))\n",
    "        june=int(input(\"Enter June sell :\"))\n",
    "        sub_lis=[no,name,jan,feb,mar,apr,may,june]\n",
    "        w.writerow(sub_lis)"
   ]
  },
  {
   "cell_type": "code",
   "execution_count": null,
   "id": "1b2940d1-fc42-48b1-99b9-f15aa78d07f7",
   "metadata": {},
   "outputs": [],
   "source": [
    "with open('c:\\sqlite3\\csv\\week7.csv','r',errors='ignore') as f:\n",
    "    w=csv.reader(f)\n",
    "    for i in w:\n",
    "print(i)"
   ]
  },
  {
   "cell_type": "code",
   "execution_count": null,
   "id": "ed464a11-6d46-4388-8cca-c3b8a8112a5b",
   "metadata": {},
   "outputs": [],
   "source": []
  }
 ],
 "metadata": {
  "kernelspec": {
   "display_name": "Python 3 (ipykernel)",
   "language": "python",
   "name": "python3"
  },
  "language_info": {
   "codemirror_mode": {
    "name": "ipython",
    "version": 3
   },
   "file_extension": ".py",
   "mimetype": "text/x-python",
   "name": "python",
   "nbconvert_exporter": "python",
   "pygments_lexer": "ipython3",
   "version": "3.9.6"
  }
 },
 "nbformat": 4,
 "nbformat_minor": 5
}
